{
 "cells": [
  {
   "cell_type": "code",
   "execution_count": 1,
   "metadata": {},
   "outputs": [
    {
     "name": "stdout",
     "output_type": "stream",
     "text": [
      "First element: 10\n",
      "Last element: 50\n",
      "Slice 1–3: [20 30 40]\n",
      "Matrix:\n",
      " [[1 2 3]\n",
      " [4 5 6]\n",
      " [7 8 9]]\n",
      "Element (row 0, col 1): 2\n",
      "Second row: [4 5 6]\n",
      "Third column: [3 6 9]\n"
     ]
    }
   ],
   "source": [
    "# reshaping and operations \n",
    "import numpy as np\n",
    "a = np.array([10, 20, 30, 40, 50])\n",
    "\n",
    "print(\"First element:\", a[0])\n",
    "print(\"Last element:\", a[-1])\n",
    "print(\"Slice 1–3:\", a[1:4])\n",
    "\n",
    "# 2D array\n",
    "m = np.arange(1, 10).reshape(3,3)\n",
    "print(\"Matrix:\\n\", m)\n",
    "\n",
    "print(\"Element (row 0, col 1):\", m[0,1])\n",
    "print(\"Second row:\", m[1,:])\n",
    "print(\"Third column:\", m[:,2])\n"
   ]
  }
 ],
 "metadata": {
  "kernelspec": {
   "display_name": "Python 3",
   "language": "python",
   "name": "python3"
  },
  "language_info": {
   "codemirror_mode": {
    "name": "ipython",
    "version": 3
   },
   "file_extension": ".py",
   "mimetype": "text/x-python",
   "name": "python",
   "nbconvert_exporter": "python",
   "pygments_lexer": "ipython3",
   "version": "3.12.3"
  }
 },
 "nbformat": 4,
 "nbformat_minor": 2
}
