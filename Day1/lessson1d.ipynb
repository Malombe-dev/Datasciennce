{
 "cells": [
  {
   "cell_type": "code",
   "execution_count": 12,
   "metadata": {},
   "outputs": [
    {
     "name": "stdout",
     "output_type": "stream",
     "text": [
      "Matrix:\n",
      " [[ 1  2  3  4]\n",
      " [ 5  6  7  8]\n",
      " [ 9 10 11 12]]\n",
      "Transpose:\n",
      " [[ 1  5  9]\n",
      " [ 2  6 10]\n",
      " [ 3  7 11]\n",
      " [ 4  8 12]]\n",
      "Sum: 78\n",
      "Mean: 6.5\n",
      "Standard Deviation: 3.452052529534663\n",
      "Matrix * 2:\n",
      " [[ 2  4  6  8]\n",
      " [10 12 14 16]\n",
      " [18 20 22 24]]\n",
      "Matrix + 5:\n",
      " [[ 6  7  8  9]\n",
      " [10 11 12 13]\n",
      " [14 15 16 17]]\n"
     ]
    }
   ],
   "source": [
    "# reshaping and operations \n",
    "import numpy as np\n",
    "\n",
    "arr = np.arange(1, 13)\n",
    "matrix = arr.reshape(3,4)\n",
    "print(\"Matrix:\\n\", matrix)\n",
    "\n",
    "# Transpose\n",
    "print(\"Transpose:\\n\", matrix.T)\n",
    "\n",
    "# Stats\n",
    "print(\"Sum:\", matrix.sum())\n",
    "print(\"Mean:\", matrix.mean())\n",
    "print(\"Standard Deviation:\", matrix.std())\n",
    "\n",
    "# Element-wise operations\n",
    "print(\"Matrix * 2:\\n\", matrix * 2)\n",
    "print(\"Matrix + 5:\\n\", matrix + 5)\n"
   ]
  }
 ],
 "metadata": {
  "kernelspec": {
   "display_name": "Python 3",
   "language": "python",
   "name": "python3"
  },
  "language_info": {
   "codemirror_mode": {
    "name": "ipython",
    "version": 3
   },
   "file_extension": ".py",
   "mimetype": "text/x-python",
   "name": "python",
   "nbconvert_exporter": "python",
   "pygments_lexer": "ipython3",
   "version": "3.12.3"
  }
 },
 "nbformat": 4,
 "nbformat_minor": 2
}
