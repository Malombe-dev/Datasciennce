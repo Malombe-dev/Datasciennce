{
 "cells": [
  {
   "cell_type": "code",
   "execution_count": 4,
   "metadata": {},
   "outputs": [
    {
     "name": "stdout",
     "output_type": "stream",
     "text": [
      "      Model  Year         Region  Color Fuel_Type Transmission\n",
      "0  5 Series  2016           Asia    Red    Petrol       Manual\n",
      "1        i8  2013  North America    Red    Hybrid    Automatic\n",
      "2  5 Series  2022  North America   Blue    Petrol    Automatic\n",
      "3        X3  2024    Middle East   Blue    Petrol    Automatic\n",
      "4  7 Series  2020  South America  Black    Diesel       Manual\n"
     ]
    }
   ],
   "source": [
    "import tabula\n",
    "import pandas as pd\n",
    "\n",
    "# Extract all tables into a list of DataFrames\n",
    "dfs = tabula.read_pdf(\"sales.pdf\", pages=\"all\", multiple_tables=True)\n",
    "\n",
    "# Example: first table\n",
    "print(dfs[0].head())\n"
   ]
  }
 ],
 "metadata": {
  "kernelspec": {
   "display_name": "Python 3",
   "language": "python",
   "name": "python3"
  },
  "language_info": {
   "codemirror_mode": {
    "name": "ipython",
    "version": 3
   },
   "file_extension": ".py",
   "mimetype": "text/x-python",
   "name": "python",
   "nbconvert_exporter": "python",
   "pygments_lexer": "ipython3",
   "version": "3.12.3"
  }
 },
 "nbformat": 4,
 "nbformat_minor": 2
}
