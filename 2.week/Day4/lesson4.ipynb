{
 "cells": [
  {
   "cell_type": "code",
   "execution_count": null,
   "metadata": {},
   "outputs": [
    {
     "name": "stdout",
     "output_type": "stream",
     "text": [
      "survived         0\n",
      "pclass           0\n",
      "sex              0\n",
      "age            177\n",
      "sibsp            0\n",
      "parch            0\n",
      "fare             0\n",
      "embarked         2\n",
      "class            0\n",
      "who              0\n",
      "adult_male       0\n",
      "deck           688\n",
      "embark_town      2\n",
      "alive            0\n",
      "alone            0\n",
      "dtype: int64\n",
      "(891, 15)\n"
     ]
    }
   ],
   "source": [
    "import seaborn as sns\n",
    "import pandas as pd\n",
    "\n",
    "# Load Titanic dataset\n",
    "titanic = sns.load_dataset(\"titanic\")\n",
    "\n",
    "# Check missing values\n",
    "print(titanic.isnull().sum())\n",
    "\n",
    "print(titanic.shape)\n",
    "# save \n",
    "# titanic.to_csv(\"titanic.csv\", index=False)\n"
   ]
  },
  {
   "cell_type": "code",
   "execution_count": 2,
   "metadata": {},
   "outputs": [
    {
     "name": "stdout",
     "output_type": "stream",
     "text": [
      "After drop: (182, 15)\n"
     ]
    }
   ],
   "source": [
    "# Drop rows with missing values\n",
    "titanic_drop = titanic.dropna()\n",
    "print(\"After drop:\", titanic_drop.shape)"
   ]
  },
  {
   "cell_type": "code",
   "execution_count": 15,
   "metadata": {},
   "outputs": [
    {
     "name": "stdout",
     "output_type": "stream",
     "text": [
      "(891, 15)\n"
     ]
    }
   ],
   "source": [
    "\n",
    "# Fill missing age with mean\n",
    "titanic_fill = titanic.copy()\n",
    "titanic_fill[\"age\"] = titanic_fill[\"age\"].fillna(titanic[\"age\"].mean())\n",
    "\n",
    "# Fill missing embarked with most common value\n",
    "titanic_fill[\"embarked\"] = titanic_fill[\"embarked\"].fillna(titanic[\"embarked\"].mode()[0])\n",
    "print(titanic_fill.shape)\n",
    "# Check missing values\n",
    "\n"
   ]
  },
  {
   "cell_type": "code",
   "execution_count": 9,
   "metadata": {},
   "outputs": [],
   "source": [
    "# option 1 drop the columns \n",
    "titanic_fill = titanic_fill.drop(columns=[\"deck\"])"
   ]
  },
  {
   "cell_type": "code",
   "execution_count": 11,
   "metadata": {},
   "outputs": [],
   "source": [
    "# option 2 fill with a place holder \n",
    "# titanic_fill[\"deck\"] = titanic_fill[\"deck\"].fillna(\"Unknown\")\n"
   ]
  },
  {
   "cell_type": "code",
   "execution_count": 13,
   "metadata": {},
   "outputs": [],
   "source": [
    "# fill embark_town with most common value\n",
    "titanic_fill[\"embark_town\"] = titanic_fill[\"embark_town\"].fillna(\n",
    "    titanic_fill[\"embark_town\"].mode()[0]\n",
    ")\n"
   ]
  },
  {
   "cell_type": "code",
   "execution_count": 16,
   "metadata": {},
   "outputs": [
    {
     "name": "stdout",
     "output_type": "stream",
     "text": [
      "survived         0\n",
      "pclass           0\n",
      "sex              0\n",
      "age              0\n",
      "sibsp            0\n",
      "parch            0\n",
      "fare             0\n",
      "embarked         0\n",
      "class            0\n",
      "who              0\n",
      "adult_male       0\n",
      "deck           688\n",
      "embark_town      2\n",
      "alive            0\n",
      "alone            0\n",
      "dtype: int64\n"
     ]
    }
   ],
   "source": [
    "\n",
    "# check missing columns again\n",
    "print(titanic_fill.isnull().sum())\n"
   ]
  },
  {
   "cell_type": "code",
   "execution_count": 30,
   "metadata": {},
   "outputs": [
    {
     "name": "stdout",
     "output_type": "stream",
     "text": [
      "107\n",
      "After removing duplicates: (784, 15)\n"
     ]
    }
   ],
   "source": [
    "import pandas as pd\n",
    "\n",
    "# Introduce a duplicate row (for demo)\n",
    "# titanic_dup = pd.concat([titanic, titanic.iloc[[0]]], ignore_index=True)\n",
    "\n",
    "# Check duplicates\n",
    "print(titanic_fill.duplicated().sum())\n",
    "# Drop duplicates\n",
    "titanic_clean = titanic_fill.drop_duplicates()\n",
    "print(\"After removing duplicates:\", titanic_clean.shape)\n",
    "\n",
    "\n"
   ]
  },
  {
   "cell_type": "code",
   "execution_count": 29,
   "metadata": {},
   "outputs": [
    {
     "name": "stdout",
     "output_type": "stream",
     "text": [
      "survived          int64\n",
      "pclass            int64\n",
      "sex              object\n",
      "age             float64\n",
      "sibsp             int64\n",
      "parch             int64\n",
      "fare            float64\n",
      "embarked         object\n",
      "class          category\n",
      "who              object\n",
      "adult_male         bool\n",
      "deck           category\n",
      "embark_town      object\n",
      "alive            object\n",
      "alone              bool\n",
      "dtype: object\n"
     ]
    },
    {
     "name": "stderr",
     "output_type": "stream",
     "text": [
      "/tmp/ipykernel_16770/4074471597.py:5: SettingWithCopyWarning: \n",
      "A value is trying to be set on a copy of a slice from a DataFrame.\n",
      "Try using .loc[row_indexer,col_indexer] = value instead\n",
      "\n",
      "See the caveats in the documentation: https://pandas.pydata.org/pandas-docs/stable/user_guide/indexing.html#returning-a-view-versus-a-copy\n",
      "  titanic_clean[\"age\"] = titanic_clean[\"age\"].fillna(titanic_clean[\"age\"].mean()).astype(int)\n",
      "/tmp/ipykernel_16770/4074471597.py:8: SettingWithCopyWarning: \n",
      "A value is trying to be set on a copy of a slice from a DataFrame.\n",
      "Try using .loc[row_indexer,col_indexer] = value instead\n",
      "\n",
      "See the caveats in the documentation: https://pandas.pydata.org/pandas-docs/stable/user_guide/indexing.html#returning-a-view-versus-a-copy\n",
      "  titanic_clean[\"survived\"] = titanic_clean[\"survived\"].astype(bool)\n"
     ]
    },
    {
     "name": "stdout",
     "output_type": "stream",
     "text": [
      "   age  survived\n",
      "0   22     False\n",
      "1   38      True\n",
      "2   26      True\n",
      "3   35      True\n",
      "4   35     False\n"
     ]
    }
   ],
   "source": [
    "# Check data types\n",
    "print(titanic_clean.dtypes)\n",
    "\n",
    "# Convert 'age' to integer (after filling NaNs)\n",
    "titanic_clean[\"age\"] = titanic_clean[\"age\"].fillna(titanic_clean[\"age\"].mean()).astype(int)\n",
    "\n",
    "# Convert 'survived' to boolean\n",
    "titanic_clean[\"survived\"] = titanic_clean[\"survived\"].astype(bool)\n",
    "\n",
    "print(titanic_clean[[\"age\", \"survived\"]].head())\n",
    "\n"
   ]
  }
 ],
 "metadata": {
  "kernelspec": {
   "display_name": "Python 3",
   "language": "python",
   "name": "python3"
  },
  "language_info": {
   "codemirror_mode": {
    "name": "ipython",
    "version": 3
   },
   "file_extension": ".py",
   "mimetype": "text/x-python",
   "name": "python",
   "nbconvert_exporter": "python",
   "pygments_lexer": "ipython3",
   "version": "3.12.3"
  }
 },
 "nbformat": 4,
 "nbformat_minor": 2
}
