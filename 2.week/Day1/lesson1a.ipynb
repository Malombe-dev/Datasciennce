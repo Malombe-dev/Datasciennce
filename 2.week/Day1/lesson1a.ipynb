{
 "cells": [
  {
   "cell_type": "code",
   "execution_count": 1,
   "metadata": {},
   "outputs": [
    {
     "name": "stdout",
     "output_type": "stream",
     "text": [
      "Python List: [1, 2, 3, 4, 5]\n",
      "NumPy Array: [1 2 3 4 5]\n",
      "List * 2: [2, 4, 6, 8, 10]\n",
      "Array * 2: [ 2  4  6  8 10]\n"
     ]
    }
   ],
   "source": [
    "\n",
    "# numerical computing with NumPy\n",
    "import numpy as np \n",
    "\n",
    "# Python list vs NumPy array\n",
    "py_list = [1, 2, 3, 4, 5]\n",
    "np_array = np.array([1, 2, 3, 4, 5])\n",
    "\n",
    "print(\"Python List:\", py_list)\n",
    "print(\"NumPy Array:\", np_array)\n",
    "\n",
    "# Vectorized operation\n",
    "print(\"List * 2:\", [x*2 for x in py_list])   # requires loop\n",
    "print(\"Array * 2:\", np_array * 2)            # vectorized\n"
   ]
  }
 ],
 "metadata": {
  "kernelspec": {
   "display_name": "Python 3",
   "language": "python",
   "name": "python3"
  },
  "language_info": {
   "codemirror_mode": {
    "name": "ipython",
    "version": 3
   },
   "file_extension": ".py",
   "mimetype": "text/x-python",
   "name": "python",
   "nbconvert_exporter": "python",
   "pygments_lexer": "ipython3",
   "version": "3.12.3"
  }
 },
 "nbformat": 4,
 "nbformat_minor": 2
}
