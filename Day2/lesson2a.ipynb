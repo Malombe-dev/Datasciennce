{
 "cells": [
  {
   "cell_type": "code",
   "execution_count": 2,
   "metadata": {},
   "outputs": [
    {
     "name": "stdout",
     "output_type": "stream",
     "text": [
      "0    10\n",
      "1    20\n",
      "2    30\n",
      "3    40\n",
      "dtype: int64\n",
      "a    100\n",
      "b    200\n",
      "c    300\n",
      "dtype: int64\n",
      "x     5\n",
      "y    10\n",
      "z    15\n",
      "dtype: int64\n"
     ]
    }
   ],
   "source": [
    "import pandas as pd\n",
    "\n",
    "# Create from list\n",
    "s1 = pd.Series([10, 20, 30, 40])\n",
    "print(s1)\n",
    "\n",
    "# Create with custom index\n",
    "s2 = pd.Series([100, 200, 300], index=['a', 'b', 'c'])\n",
    "print(s2)\n",
    "# Create from dictionary\n",
    "s3 = pd.Series({'x': 5, 'y': 10, 'z': 15})\n",
    "print(s3)\n"
   ]
  },
  {
   "cell_type": "code",
   "execution_count": 2,
   "metadata": {},
   "outputs": [
    {
     "name": "stdout",
     "output_type": "stream",
     "text": [
      "First element: 10\n",
      "First two elements:\n",
      " 0    10\n",
      "1    20\n",
      "dtype: int64\n",
      "Access by label: 200\n"
     ]
    }
   ],
   "source": [
    "print(\"First element:\", s1[0])       # by position\n",
    "print(\"First two elements:\\n\", s1[:2]) # slicing\n",
    "print(\"Access by label:\", s2['b'])   # by label\n"
   ]
  },
  {
   "cell_type": "code",
   "execution_count": 4,
   "metadata": {},
   "outputs": [
    {
     "name": "stdout",
     "output_type": "stream",
     "text": [
      "Multiply by 2:\n",
      " 0    20\n",
      "1    40\n",
      "2    60\n",
      "3    80\n",
      "dtype: int64\n",
      "Add 5:\n",
      " 0    15\n",
      "1    25\n",
      "2    35\n",
      "3    45\n",
      "dtype: int64\n",
      "s1 + s2:\n",
      " 0     10.0\n",
      "1     20.0\n",
      "2     30.0\n",
      "3     40.0\n",
      "a    100.0\n",
      "b    200.0\n",
      "c    300.0\n",
      "dtype: float64\n"
     ]
    }
   ],
   "source": [
    "print(\"Multiply by 2:\\n\", s1 * 2)\n",
    "print(\"Add 5:\\n\", s1 + 5)\n",
    "\n",
    "# Arithmetic between Series\n",
    "print(\"s1 + s2:\\n\", s1.add(s2, fill_value=0))\n"
   ]
  }
 ],
 "metadata": {
  "kernelspec": {
   "display_name": "Python 3",
   "language": "python",
   "name": "python3"
  },
  "language_info": {
   "codemirror_mode": {
    "name": "ipython",
    "version": 3
   },
   "file_extension": ".py",
   "mimetype": "text/x-python",
   "name": "python",
   "nbconvert_exporter": "python",
   "pygments_lexer": "ipython3",
   "version": "3.12.3"
  }
 },
 "nbformat": 4,
 "nbformat_minor": 2
}
