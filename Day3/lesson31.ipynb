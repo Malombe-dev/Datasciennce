{
 "cells": [
  {
   "cell_type": "code",
   "execution_count": 6,
   "metadata": {},
   "outputs": [
    {
     "name": "stdout",
     "output_type": "stream",
     "text": [
      "    Loan_ID Gender Married     Education Self_Employed  ApplicantIncome  \\\n",
      "0  LP001002   Male      No      Graduate            No             5849   \n",
      "1  LP001003   Male     Yes      Graduate            No             4583   \n",
      "2  LP001005   Male     Yes      Graduate           Yes             3000   \n",
      "3  LP001006   Male     Yes  Not Graduate            No             2583   \n",
      "4  LP001008   Male      No      Graduate            No             6000   \n",
      "\n",
      "   CoapplicantIncome  LoanAmount Property_Area Loan_Status  \n",
      "0                0.0         NaN         Urban           Y  \n",
      "1             1508.0       128.0         Rural           N  \n",
      "2                0.0        66.0         Urban           Y  \n",
      "3             2358.0       120.0         Urban           Y  \n",
      "4                0.0       141.0         Urban           Y  \n"
     ]
    }
   ],
   "source": [
    "import pandas as pd\n",
    "\n",
    "# CSV\n",
    "df_csv = pd.read_csv(\"data/bank.csv\")\n",
    "print(df_csv.head())\n",
    "\n"
   ]
  },
  {
   "cell_type": "code",
   "execution_count": 3,
   "metadata": {},
   "outputs": [],
   "source": [
    "df_csv.to_csv(\"data/bank.csv\", index=False)"
   ]
  },
  {
   "cell_type": "code",
   "execution_count": 11,
   "metadata": {},
   "outputs": [
    {
     "name": "stdout",
     "output_type": "stream",
     "text": [
      "   survived  pclass     sex   age  sibsp  parch     fare embarked  class  \\\n",
      "0         0       3    male  22.0      1      0   7.2500        S  Third   \n",
      "1         1       1  female  38.0      1      0  71.2833        C  First   \n",
      "2         1       3  female  26.0      0      0   7.9250        S  Third   \n",
      "3         1       1  female  35.0      1      0  53.1000        S  First   \n",
      "4         0       3    male  35.0      0      0   8.0500        S  Third   \n",
      "\n",
      "     who  adult_male deck  embark_town alive  alone  \n",
      "0    man        True  NaN  Southampton    no  False  \n",
      "1  woman       False    C    Cherbourg   yes  False  \n",
      "2  woman       False  NaN  Southampton   yes   True  \n",
      "3  woman       False    C  Southampton   yes  False  \n",
      "4    man        True  NaN  Southampton    no   True  \n",
      "<class 'pandas.core.frame.DataFrame'>\n",
      "RangeIndex: 891 entries, 0 to 890\n",
      "Data columns (total 15 columns):\n",
      " #   Column       Non-Null Count  Dtype   \n",
      "---  ------       --------------  -----   \n",
      " 0   survived     891 non-null    int64   \n",
      " 1   pclass       891 non-null    int64   \n",
      " 2   sex          891 non-null    object  \n",
      " 3   age          714 non-null    float64 \n",
      " 4   sibsp        891 non-null    int64   \n",
      " 5   parch        891 non-null    int64   \n",
      " 6   fare         891 non-null    float64 \n",
      " 7   embarked     889 non-null    object  \n",
      " 8   class        891 non-null    category\n",
      " 9   who          891 non-null    object  \n",
      " 10  adult_male   891 non-null    bool    \n",
      " 11  deck         203 non-null    category\n",
      " 12  embark_town  889 non-null    object  \n",
      " 13  alive        891 non-null    object  \n",
      " 14  alone        891 non-null    bool    \n",
      "dtypes: bool(2), category(2), float64(2), int64(4), object(5)\n",
      "memory usage: 80.7+ KB\n",
      "None\n",
      "   survived  pclass     sex\n",
      "0         0       3    male\n",
      "1         1       1  female\n",
      "2         1       3  female\n",
      "3         1       1  female\n",
      "4         0       3    male\n",
      "      sex   age  class\n",
      "0    male  22.0  Third\n",
      "1  female  38.0  First\n",
      "2  female  26.0  Third\n",
      "3  female  35.0  First\n",
      "4    male  35.0  Third\n",
      "5    male   NaN  Third\n",
      "   survived  pclass     sex   age  sibsp  parch     fare embarked  class  \\\n",
      "0         0       3    male  22.0      1      0   7.2500        S  Third   \n",
      "1         1       1  female  38.0      1      0  71.2833        C  First   \n",
      "2         1       3  female  26.0      0      0   7.9250        S  Third   \n",
      "3         1       1  female  35.0      1      0  53.1000        S  First   \n",
      "4         0       3    male  35.0      0      0   8.0500        S  Third   \n",
      "\n",
      "     who  adult_male deck  embark_town alive  alone  \n",
      "0    man        True  NaN  Southampton    no  False  \n",
      "1  woman       False    C    Cherbourg   yes  False  \n",
      "2  woman       False  NaN  Southampton   yes   True  \n",
      "3  woman       False    C  Southampton   yes  False  \n",
      "4    man        True  NaN  Southampton    no   True  \n",
      "sex\n",
      "female    0.742038\n",
      "male      0.188908\n",
      "Name: survived, dtype: float64\n"
     ]
    }
   ],
   "source": [
    "import seaborn as sns\n",
    "\n",
    "# Load Titanic dataset\n",
    "titanic = sns.load_dataset(\"titanic\")\n",
    "\n",
    "# Inspect dataset\n",
    "print(titanic.head())\n",
    "print(titanic.info())\n",
    "\n",
    "# Indexing & slicing\n",
    "print(titanic.iloc[0:5, 0:3])     # first 5 rows, first 3 columns\n",
    "print(titanic.loc[0:5, [\"sex\", \"age\", \"class\"]])  # specific columns\n",
    "\n",
    "# Filtering\n",
    "adults = titanic[titanic[\"age\"] >= 18]\n",
    "print(adults.head())\n",
    "\n",
    "# Simple operation: survival rate by sex\n",
    "print(titanic.groupby(\"sex\")[\"survived\"].mean())\n",
    "\n",
    "# Save subset to CSV\n",
    "# titanic.head(100).to_csv(\"titanic_sample.csv\", index=False)\n"
   ]
  }
 ],
 "metadata": {
  "kernelspec": {
   "display_name": "Python 3",
   "language": "python",
   "name": "python3"
  },
  "language_info": {
   "codemirror_mode": {
    "name": "ipython",
    "version": 3
   },
   "file_extension": ".py",
   "mimetype": "text/x-python",
   "name": "python",
   "nbconvert_exporter": "python",
   "pygments_lexer": "ipython3",
   "version": "3.12.3"
  }
 },
 "nbformat": 4,
 "nbformat_minor": 2
}
