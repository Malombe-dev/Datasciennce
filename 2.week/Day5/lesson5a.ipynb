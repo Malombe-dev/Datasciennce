{
 "cells": [
  {
   "cell_type": "code",
   "execution_count": 2,
   "metadata": {},
   "outputs": [
    {
     "name": "stdout",
     "output_type": "stream",
     "text": [
      "    survived  pclass     sex   age  sibsp  parch     fare embarked  class  \\\n",
      "1          1       1  female  38.0      1      0  71.2833        C  First   \n",
      "3          1       1  female  35.0      1      0  53.1000        S  First   \n",
      "4          0       3    male  35.0      0      0   8.0500        S  Third   \n",
      "6          0       1    male  54.0      0      0  51.8625        S  First   \n",
      "11         1       1  female  58.0      0      0  26.5500        S  First   \n",
      "\n",
      "      who  adult_male deck  embark_town alive  alone  \n",
      "1   woman       False    C    Cherbourg   yes  False  \n",
      "3   woman       False    C  Southampton   yes  False  \n",
      "4     man        True  NaN  Southampton    no   True  \n",
      "6     man        True    E  Southampton    no   True  \n",
      "11  woman       False    C  Southampton   yes   True  \n",
      "   survived  pclass     sex   age  sibsp  parch     fare embarked   class  \\\n",
      "1         1       1  female  38.0      1      0  71.2833        C   First   \n",
      "2         1       3  female  26.0      0      0   7.9250        S   Third   \n",
      "3         1       1  female  35.0      1      0  53.1000        S   First   \n",
      "8         1       3  female  27.0      0      2  11.1333        S   Third   \n",
      "9         1       2  female  14.0      1      0  30.0708        C  Second   \n",
      "\n",
      "     who  adult_male deck  embark_town alive  alone  \n",
      "1  woman       False    C    Cherbourg   yes  False  \n",
      "2  woman       False  NaN  Southampton   yes   True  \n",
      "3  woman       False    C  Southampton   yes  False  \n",
      "8  woman       False  NaN  Southampton   yes  False  \n",
      "9  child       False  NaN    Cherbourg   yes  False  \n",
      "    survived  pclass     sex   age  sibsp  parch     fare embarked   class  \\\n",
      "1          1       1  female  38.0      1      0  71.2833        C   First   \n",
      "3          1       1  female  35.0      1      0  53.1000        S   First   \n",
      "11         1       1  female  58.0      0      0  26.5500        S   First   \n",
      "15         1       2  female  55.0      0      0  16.0000        S  Second   \n",
      "18         0       3  female  31.0      1      0  18.0000        S   Third   \n",
      "\n",
      "      who  adult_male deck  embark_town alive  alone  \n",
      "1   woman       False    C    Cherbourg   yes  False  \n",
      "3   woman       False    C  Southampton   yes  False  \n",
      "11  woman       False    C  Southampton   yes   True  \n",
      "15  woman       False  NaN  Southampton   yes   True  \n",
      "18  woman       False  NaN  Southampton    no  False  \n"
     ]
    }
   ],
   "source": [
    "import seaborn as sns\n",
    "import pandas as pd\n",
    "\n",
    "# Load Titanic dataset\n",
    "titanic = sns.load_dataset(\"titanic\")\n",
    "\n",
    "# Passengers older than 30\n",
    "older_than_30 = titanic[titanic[\"age\"] > 30]\n",
    "print(older_than_30.head())\n",
    "\n",
    "# Female passengers only\n",
    "females = titanic[titanic[\"sex\"] == \"female\"]\n",
    "print(females.head())\n",
    "\n",
    "# Females older than 30\n",
    "females_30 = titanic[(titanic[\"sex\"] == \"female\") & (titanic[\"age\"] > 30)]\n",
    "print(females_30.head())\n",
    "# save to csv\n",
    "\n",
    "\n"
   ]
  },
  {
   "cell_type": "code",
   "execution_count": 3,
   "metadata": {},
   "outputs": [
    {
     "name": "stdout",
     "output_type": "stream",
     "text": [
      "<pandas.core.groupby.generic.SeriesGroupBy object at 0x700b76708410>\n",
      "sex\n",
      "female    0.742038\n",
      "male      0.188908\n",
      "Name: survived, dtype: float64\n",
      "pclass\n",
      "1    0.629630\n",
      "2    0.472826\n",
      "3    0.242363\n",
      "Name: survived, dtype: float64\n"
     ]
    }
   ],
   "source": [
    "# Average age by sex\n",
    "avg_age = titanic.groupby(\"sex\")[\"age\"]\n",
    "print(avg_age)\n",
    "\n",
    "# Survival rate by sex\n",
    "survival_rate = titanic.groupby(\"sex\")[\"survived\"].mean()\n",
    "print(survival_rate)\n",
    "\n",
    "# Survival rate by class\n",
    "class_survival = titanic.groupby(\"pclass\")[\"survived\"].mean()\n",
    "print(class_survival)\n"
   ]
  },
  {
   "cell_type": "code",
   "execution_count": 4,
   "metadata": {},
   "outputs": [
    {
     "name": "stdout",
     "output_type": "stream",
     "text": [
      "   id   name     city\n",
      "0   1  Alice  Nairobi\n",
      "1   2    Bob  Mombasa\n",
      "   id     name     city\n",
      "0   1    Alice  Nairobi\n",
      "1   2      Bob  Mombasa\n",
      "2   3  Charlie      NaN\n"
     ]
    }
   ],
   "source": [
    "# Example mini datasets\n",
    "df1 = pd.DataFrame({\"id\": [1, 2, 3], \"name\": [\"Alice\", \"Bob\", \"Charlie\"]})\n",
    "df2 = pd.DataFrame({\"id\": [1, 2, 4], \"city\": [\"Nairobi\", \"Mombasa\", \"Kisumu\"]})\n",
    "\n",
    "# Merge on \"id\"\n",
    "merged = pd.merge(df1, df2, on=\"id\", how=\"inner\")\n",
    "print(merged)\n",
    "\n",
    "# Left join\n",
    "left_join = pd.merge(df1, df2, on=\"id\", how=\"left\")\n",
    "print(left_join)\n"
   ]
  },
  {
   "cell_type": "code",
   "execution_count": 5,
   "metadata": {},
   "outputs": [
    {
     "name": "stdout",
     "output_type": "stream",
     "text": [
      "sex       female      male\n",
      "class                     \n",
      "First   0.968085  0.368852\n",
      "Second  0.921053  0.157407\n",
      "Third   0.500000  0.135447\n"
     ]
    }
   ],
   "source": [
    "# Survival by class and sex\n",
    "pivot = pd.pivot_table(titanic, values=\"survived\", index=\"class\", columns=\"sex\", aggfunc=\"mean\")\n",
    "print(pivot)\n"
   ]
  }
 ],
 "metadata": {
  "kernelspec": {
   "display_name": "Python 3",
   "language": "python",
   "name": "python3"
  },
  "language_info": {
   "codemirror_mode": {
    "name": "ipython",
    "version": 3
   },
   "file_extension": ".py",
   "mimetype": "text/x-python",
   "name": "python",
   "nbconvert_exporter": "python",
   "pygments_lexer": "ipython3",
   "version": "3.12.3"
  }
 },
 "nbformat": 4,
 "nbformat_minor": 2
}
