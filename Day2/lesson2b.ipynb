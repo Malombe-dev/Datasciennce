{
 "cells": [
  {
   "cell_type": "code",
   "execution_count": 19,
   "metadata": {},
   "outputs": [
    {
     "name": "stdout",
     "output_type": "stream",
     "text": [
      "      Name  Age     City\n",
      "0    Alice   25  Nairobi\n",
      "1      Bob   45  Mombasa\n",
      "2  Charlie   35   Kisumu\n"
     ]
    }
   ],
   "source": [
    "import pandas as pd\n",
    "# From dictionary\n",
    "data = {\n",
    "    'Name': ['Alice', 'Bob', 'Charlie'],\n",
    "    'Age': [25, 45, 35],\n",
    "    'City': ['Nairobi', 'Mombasa', 'Kisumu']\n",
    "}\n",
    "df = pd.DataFrame(data)\n",
    "print(df)\n"
   ]
  },
  {
   "cell_type": "code",
   "execution_count": 20,
   "metadata": {},
   "outputs": [
    {
     "name": "stdout",
     "output_type": "stream",
     "text": [
      "The first 5rows       Name  Age     City\n",
      "0    Alice   25  Nairobi\n",
      "1      Bob   45  Mombasa\n",
      "2  Charlie   35   Kisumu\n",
      "      Name  Age     City\n",
      "0    Alice   25  Nairobi\n",
      "1      Bob   45  Mombasa\n",
      "2  Charlie   35   Kisumu\n",
      "<class 'pandas.core.frame.DataFrame'>\n",
      "RangeIndex: 3 entries, 0 to 2\n",
      "Data columns (total 3 columns):\n",
      " #   Column  Non-Null Count  Dtype \n",
      "---  ------  --------------  ----- \n",
      " 0   Name    3 non-null      object\n",
      " 1   Age     3 non-null      int64 \n",
      " 2   City    3 non-null      object\n",
      "dtypes: int64(1), object(2)\n",
      "memory usage: 204.0+ bytes\n",
      "Data info None\n",
      "        Age\n",
      "count   3.0\n",
      "mean   35.0\n",
      "std    10.0\n",
      "min    25.0\n",
      "25%    30.0\n",
      "50%    35.0\n",
      "75%    40.0\n",
      "max    45.0\n"
     ]
    }
   ],
   "source": [
    "print(\"The first 5rows\",df.head())       # first 5 rows\n",
    "print(df.tail())       # last 5 rows\n",
    "print(\"Data info\",df.info())       # column names, types, missing values\n",
    "print(df.describe())   # statistics (numerical columns only)\n"
   ]
  },
  {
   "cell_type": "code",
   "execution_count": 21,
   "metadata": {},
   "outputs": [
    {
     "name": "stdout",
     "output_type": "stream",
     "text": [
      "0      Alice\n",
      "1        Bob\n",
      "2    Charlie\n",
      "Name: Name, dtype: object\n",
      "      Name  Age\n",
      "0    Alice   25\n",
      "1      Bob   45\n",
      "2  Charlie   35\n",
      "Name      Alice\n",
      "Age          25\n",
      "City    Nairobi\n",
      "Name: 0, dtype: object\n",
      "Name      Alice\n",
      "Age          25\n",
      "City    Nairobi\n",
      "Name: 0, dtype: object\n"
     ]
    }
   ],
   "source": [
    "\n",
    "# Column access\n",
    "print(df['Name'])         # one column (Series)\n",
    "print(df[['Name', 'Age']]) # multiple columns (DataFrame)\n",
    "\n",
    "# Row access with loc\n",
    "print(df.loc[0])   # first row by label\n",
    "# Row access with iloc\n",
    "print(df.iloc[0])  # first row by position\n"
   ]
  },
  {
   "cell_type": "code",
   "execution_count": 23,
   "metadata": {},
   "outputs": [
    {
     "name": "stdout",
     "output_type": "stream",
     "text": [
      "Alice\n",
      "      Name     City\n",
      "0    Alice  Nairobi\n",
      "1      Bob  Mombasa\n",
      "2  Charlie   Kisumu\n",
      "25\n",
      "    Name  Age     City\n",
      "0  Alice   25  Nairobi\n",
      "1    Bob   45  Mombasa\n"
     ]
    }
   ],
   "source": [
    "# loc → by labels\n",
    "print(df.loc[0, 'Name'])      # row 0, column \"Name\"\n",
    "print(df.loc[:, ['Name','City']]) # all rows, two columns\n",
    "\n",
    "# iloc → by positions\n",
    "print(df.iloc[0, 1])          # row 0, column 1\n",
    "print(df.iloc[:2, :])         # first 2 rows, all cols\n"
   ]
  }
 ],
 "metadata": {
  "kernelspec": {
   "display_name": "Python 3",
   "language": "python",
   "name": "python3"
  },
  "language_info": {
   "codemirror_mode": {
    "name": "ipython",
    "version": 3
   },
   "file_extension": ".py",
   "mimetype": "text/x-python",
   "name": "python",
   "nbconvert_exporter": "python",
   "pygments_lexer": "ipython3",
   "version": "3.12.3"
  }
 },
 "nbformat": 4,
 "nbformat_minor": 2
}
