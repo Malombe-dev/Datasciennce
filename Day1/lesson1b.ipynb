{
 "cells": [
  {
   "cell_type": "code",
   "execution_count": null,
   "metadata": {},
   "outputs": [
    {
     "name": "stdout",
     "output_type": "stream",
     "text": [
      "Array: [10 20 30]\n",
      "Range: [0 2 4 6 8]\n",
      "Linspace: [0.   0.25 0.5  0.75 1.  ]\n",
      "Zeros:\n",
      " [[0. 0. 0.]\n",
      " [0. 0. 0.]]\n",
      "Random integers:\n",
      " [[7 3 7 3]\n",
      " [9 8 1 4]]\n"
     ]
    }
   ],
   "source": [
    "# array creation methods \n",
    "# From list\n",
    "import numpy as np\n",
    "arr = np.array([10, 20, 30])\n",
    "# Range\n",
    "arr2 = np.arange(0, 10, 2)\n",
    "# Evenly spaced\n",
    "arr3 = np.linspace(0, 1, 5)\n",
    "# Zeros & ones\n",
    "zeros = np.zeros((2,3))\n",
    "ones = np.ones((3,2))\n",
    "# Random\n",
    "rand = np.random.rand(3,3)\n",
    "rint = np.random.randint(1, 10, size=(2,4))\n",
    "print(\"Array:\", arr)\n",
    "print(\"Range:\", arr2)\n",
    "print(\"Linspace:\", arr3)\n",
    "print(\"Zeros:\\n\", zeros)\n",
    "print(\"Random integers:\\n\", rint)\n"
   ]
  }
 ],
 "metadata": {
  "kernelspec": {
   "display_name": "Python 3",
   "language": "python",
   "name": "python3"
  },
  "language_info": {
   "codemirror_mode": {
    "name": "ipython",
    "version": 3
   },
   "file_extension": ".py",
   "mimetype": "text/x-python",
   "name": "python",
   "nbconvert_exporter": "python",
   "pygments_lexer": "ipython3",
   "version": "3.12.3"
  }
 },
 "nbformat": 4,
 "nbformat_minor": 2
}
